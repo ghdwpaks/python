{
 "cells": [
  {
   "cell_type": "code",
   "execution_count": 1,
   "id": "referenced-impression",
   "metadata": {},
   "outputs": [
    {
     "name": "stdout",
     "output_type": "stream",
     "text": [
      "Hello world!\n"
     ]
    }
   ],
   "source": [
    "print(\"Hello world!\")"
   ]
  },
  {
   "cell_type": "code",
   "execution_count": 17,
   "id": "federal-snowboard",
   "metadata": {},
   "outputs": [
    {
     "ename": "KeyboardInterrupt",
     "evalue": "",
     "output_type": "error",
     "traceback": [
      "\u001b[1;31m---------------------------------------------------------------------------\u001b[0m",
      "\u001b[1;31mKeyboardInterrupt\u001b[0m                         Traceback (most recent call last)",
      "\u001b[1;32m<ipython-input-17-e2b73b4fc9ce>\u001b[0m in \u001b[0;36m<module>\u001b[1;34m\u001b[0m\n\u001b[0;32m     26\u001b[0m \u001b[1;32mwhile\u001b[0m \u001b[0mSB\u001b[0m \u001b[1;33m==\u001b[0m \u001b[1;36m0\u001b[0m \u001b[1;33m:\u001b[0m\u001b[1;33m\u001b[0m\u001b[1;33m\u001b[0m\u001b[0m\n\u001b[0;32m     27\u001b[0m     \u001b[1;31m#4-1.FPS설정\u001b[0m\u001b[1;33m\u001b[0m\u001b[1;33m\u001b[0m\u001b[1;33m\u001b[0m\u001b[0m\n\u001b[1;32m---> 28\u001b[1;33m     \u001b[0mclock\u001b[0m\u001b[1;33m.\u001b[0m\u001b[0mtick\u001b[0m\u001b[1;33m(\u001b[0m\u001b[1;36m60\u001b[0m\u001b[1;33m)\u001b[0m\u001b[1;33m\u001b[0m\u001b[1;33m\u001b[0m\u001b[0m\n\u001b[0m\u001b[0;32m     29\u001b[0m \u001b[1;33m\u001b[0m\u001b[0m\n\u001b[0;32m     30\u001b[0m     \u001b[1;31m#4-2.각종 입력 감지\u001b[0m\u001b[1;33m\u001b[0m\u001b[1;33m\u001b[0m\u001b[1;33m\u001b[0m\u001b[0m\n",
      "\u001b[1;31mKeyboardInterrupt\u001b[0m: "
     ]
    }
   ],
   "source": [
    "import pygame\n",
    "\n",
    "#1. 게임 초기화\n",
    "pygame.init()\n",
    "\n",
    "#2. 게임창 옵션 설정\n",
    "size = [400,900]\n",
    "screen = pygame.display.set_mode(size)\n",
    "\n",
    "title = 'My Game'\n",
    "pygame.display.set_caption(title)\n",
    "\n",
    "#3. 게임 내 필요한 설정\n",
    "clock = pygame.time.Clock()\n",
    "\n",
    "class obj :\n",
    "    def __init__(self) :\n",
    "        self.x = 0\n",
    "        self.y = 0\n",
    "    def put_img(self, address) :\n",
    "        if address[-3:] == 'png' :\n",
    "            self.img = pygame.image.load(address).convert_alpha()#이미지\n",
    "        else :\n",
    "            self.img = pygame.image.load(address)\n",
    "        self.sx, self.sy = self.img.get_size()\n",
    "        \n",
    "ss = pygame.image.load(\"C:\\workspace\\py\\day16\\homework\\weekend2\\pygame\\ss.png\").convert_alpha()#이미지\n",
    "ss = pygame.transform.scale(ss,(50,50))\n",
    "#ss_sx , ss_sy = ss.get_size()#ss의 가로, 세로 크기\n",
    "ss_x = (size[0] // 2) - (ss_sx // 2)#ss의 x좌표(픽셀)위치\n",
    "ss_y = size[1] - ss_sy - 5#ss의 y 좌표(픽셀)위치\n",
    "black = (0,0,0)\n",
    "white = (255,255,255)\n",
    "k = 0\n",
    "\n",
    "#4.메인 이벤트\n",
    "SB = 0\n",
    "while SB == 0 :\n",
    "    #4-1.FPS설정\n",
    "    clock.tick(60)\n",
    "    \n",
    "    #4-2.각종 입력 감지\n",
    "    for event in pygame.event.get() :\n",
    "        if event.type == pygame.QUIT: \n",
    "            SB = 1\n",
    "        \n",
    "    \n",
    "    #4-3.입력, 시간에 따른 변화\n",
    "    k += 1\n",
    "    \n",
    "    #4-4.그리기\n",
    "    screen.fill(white)\n",
    "    screen.blit(ss, (ss_x,ss_y))\n",
    "    \n",
    "    #4-5.업데이트\n",
    "    pygame.display.flip()\n",
    "\n",
    "#5. 게임 종료\n",
    "pygame.quit()"
   ]
  },
  {
   "cell_type": "code",
   "execution_count": 18,
   "id": "sapphire-latvia",
   "metadata": {},
   "outputs": [
    {
     "name": "stdout",
     "output_type": "stream",
     "text": [
      "0\n"
     ]
    }
   ],
   "source": [
    "\n",
    "class obj :\n",
    "    def __init__(self) :\n",
    "        self.x = 0\n",
    "        self.y = 0\n",
    "a= obj()\n",
    "print(a.x)"
   ]
  },
  {
   "cell_type": "code",
   "execution_count": null,
   "id": "broke-prospect",
   "metadata": {},
   "outputs": [],
   "source": []
  }
 ],
 "metadata": {
  "kernelspec": {
   "display_name": "Python 3",
   "language": "python",
   "name": "python3"
  },
  "language_info": {
   "codemirror_mode": {
    "name": "ipython",
    "version": 3
   },
   "file_extension": ".py",
   "mimetype": "text/x-python",
   "name": "python",
   "nbconvert_exporter": "python",
   "pygments_lexer": "ipython3",
   "version": "3.8.1"
  }
 },
 "nbformat": 4,
 "nbformat_minor": 5
}
