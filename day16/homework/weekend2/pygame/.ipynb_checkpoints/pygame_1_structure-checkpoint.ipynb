{
 "cells": [
  {
   "cell_type": "code",
   "execution_count": 1,
   "id": "referenced-impression",
   "metadata": {},
   "outputs": [
    {
     "name": "stdout",
     "output_type": "stream",
     "text": [
      "Hello world!\n"
     ]
    }
   ],
   "source": [
    "print(\"Hello world!\")"
   ]
  },
  {
   "cell_type": "code",
   "execution_count": null,
   "id": "federal-snowboard",
   "metadata": {},
   "outputs": [],
   "source": [
    "import pygame\n",
    "\n",
    "#1. 게임 초기화\n",
    "pygame.init()\n",
    "\n",
    "#2. 게임창 옵션 설정\n",
    "size = [400,900]\n",
    "screen = pygame.display.set_mode(size)\n",
    "\n",
    "title = 'My Game'\n",
    "pygame.display.set_caption(title)\n",
    "\n",
    "#3. 게임 내 필요한 설정\n",
    "clock = pygame.time.Clock()\n",
    "ss = pygame.image.load(\"C:\\workspace\\py\\day16\\homework\\weekend2\\pygame\\ss.png\").convert_alpha()\n",
    "ss = pygame.transform.scale(ss,(50,50))\n",
    "ss_sx , ss_sy = ss.get_size()\n",
    "ss_x = (size[0] // 2) - (ss_sx // 2)\n",
    "ss_y = size[1] - ss_sy - 5\n",
    "black = (0,0,0)\n",
    "white = (255,255,255)\n",
    "k = 0\n",
    "\n",
    "#4.메인 이벤트\n",
    "SB = 0\n",
    "while SB == 0 :\n",
    "    #4-1.FPS설정\n",
    "    clock.tick(60)\n",
    "    \n",
    "    #4-2.각종 입력 감지\n",
    "    for event in pygame.event.get() :\n",
    "        if event.type == pygame.QUIT: \n",
    "            SB = 1\n",
    "        \n",
    "    \n",
    "    #4-3.입력, 시간에 따른 변화\n",
    "    k += 1\n",
    "    \n",
    "    #4-4.그리기\n",
    "    screen.fill(white)\n",
    "    screen.blit(ss, (ss_x,ss_y))\n",
    "    \n",
    "    #4-5.업데이트\n",
    "    pygame.display.flip()\n",
    "\n",
    "#5. 게임 종료\n",
    "pygame.quit()"
   ]
  },
  {
   "cell_type": "code",
   "execution_count": null,
   "id": "sapphire-latvia",
   "metadata": {},
   "outputs": [],
   "source": []
  }
 ],
 "metadata": {
  "kernelspec": {
   "display_name": "Python 3",
   "language": "python",
   "name": "python3"
  },
  "language_info": {
   "codemirror_mode": {
    "name": "ipython",
    "version": 3
   },
   "file_extension": ".py",
   "mimetype": "text/x-python",
   "name": "python",
   "nbconvert_exporter": "python",
   "pygments_lexer": "ipython3",
   "version": "3.8.1"
  }
 },
 "nbformat": 4,
 "nbformat_minor": 5
}
